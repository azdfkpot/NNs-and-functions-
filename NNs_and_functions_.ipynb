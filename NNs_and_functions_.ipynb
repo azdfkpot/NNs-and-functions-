{
  "nbformat": 4,
  "nbformat_minor": 0,
  "metadata": {
    "colab": {
      "provenance": [],
      "authorship_tag": "ABX9TyNCFTU/7heMchJaLPQ1oRWO"
    },
    "kernelspec": {
      "name": "python3",
      "display_name": "Python 3"
    },
    "language_info": {
      "name": "python"
    }
  },
  "cells": [
    {
      "cell_type": "code",
      "execution_count": null,
      "metadata": {
        "colab": {
          "base_uri": "https://localhost:8080/"
        },
        "id": "F5TUTtyIMK19",
        "outputId": "e95a3832-434a-443d-d2fc-d196c46df6d7"
      },
      "outputs": [
        {
          "output_type": "stream",
          "name": "stdout",
          "text": [
            "8\n"
          ]
        }
      ],
      "source": [
        "X=0\n",
        "Y=8\n",
        "print(X+Y)"
      ]
    }
  ]
}